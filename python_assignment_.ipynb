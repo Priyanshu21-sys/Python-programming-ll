{
  "nbformat": 4,
  "nbformat_minor": 0,
  "metadata": {
    "colab": {
      "name": "python assignment .ipynb",
      "provenance": [],
      "collapsed_sections": [],
      "authorship_tag": "ABX9TyOM4u1IL5tICYIp2fpkWl4M",
      "include_colab_link": true
    },
    "kernelspec": {
      "name": "python3",
      "display_name": "Python 3"
    },
    "language_info": {
      "name": "python"
    }
  },
  "cells": [
    {
      "cell_type": "markdown",
      "metadata": {
        "id": "view-in-github",
        "colab_type": "text"
      },
      "source": [
        "<a href=\"https://colab.research.google.com/github/Priyanshu21-sys/Python-programming-ll/blob/main/python_assignment_.ipynb\" target=\"_parent\"><img src=\"https://colab.research.google.com/assets/colab-badge.svg\" alt=\"Open In Colab\"/></a>"
      ]
    },
    {
      "cell_type": "markdown",
      "source": [
        "#Section A : Fundamentals of Python"
      ],
      "metadata": {
        "id": "Eyi_95YZTSbR"
      }
    },
    {
      "cell_type": "markdown",
      "source": [
        "1. Write a Python program to print “Hello Python”"
      ],
      "metadata": {
        "id": "U9s0nnR_TjXn"
      }
    },
    {
      "cell_type": "code",
      "source": [
        "print(\"Hello Python\")\n",
        "z = 'Hello Python'\n",
        "print(z)"
      ],
      "metadata": {
        "colab": {
          "base_uri": "https://localhost:8080/"
        },
        "id": "crtiPZMATdfp",
        "outputId": "8535083d-905f-438f-abf0-0c56f58a4c9f"
      },
      "execution_count": null,
      "outputs": [
        {
          "output_type": "stream",
          "name": "stdout",
          "text": [
            "Hello Python\n",
            "Hello Python\n"
          ]
        }
      ]
    },
    {
      "cell_type": "markdown",
      "source": [
        "2. Write a Python program to do arithmetical operations addition and division ?"
      ],
      "metadata": {
        "id": "pv2jwu-8T4F7"
      }
    },
    {
      "cell_type": "code",
      "source": [
        "q = 20\n",
        "p = 5\n",
        "sum = p + q\n",
        "print(sum)\n",
        "div = q/p\n",
        "print(div)"
      ],
      "metadata": {
        "colab": {
          "base_uri": "https://localhost:8080/"
        },
        "id": "B_FlcZP8T3tR",
        "outputId": "749dacd5-4db7-4292-a775-31b553021bcf"
      },
      "execution_count": null,
      "outputs": [
        {
          "output_type": "stream",
          "name": "stdout",
          "text": [
            "25\n",
            "4.0\n"
          ]
        }
      ]
    },
    {
      "cell_type": "markdown",
      "source": [
        "3. Write a Python program to find the area of a triangle?"
      ],
      "metadata": {
        "id": "tAB8986HUFqd"
      }
    },
    {
      "cell_type": "code",
      "source": [
        "height = float(input(\"enter the height of the traingle: \"))\n",
        "base = float(input(\"enter the base of the traingle: \"))\n",
        "area = 0.5 *(base*height)\n",
        "print('Area of triangle is :', area)"
      ],
      "metadata": {
        "colab": {
          "base_uri": "https://localhost:8080/"
        },
        "id": "KDYQy7hqUGON",
        "outputId": "16b2eae8-25e1-4cb8-8303-e3892c5ea45d"
      },
      "execution_count": null,
      "outputs": [
        {
          "output_type": "stream",
          "name": "stdout",
          "text": [
            "enter the height of the traingle: 5\n",
            "enter the base of the traingle: 6\n",
            "Area of triangle is : 15.0\n"
          ]
        }
      ]
    },
    {
      "cell_type": "markdown",
      "source": [
        "4. Write a Python program to swap two variables?"
      ],
      "metadata": {
        "id": "dE8blxj_UfgZ"
      }
    },
    {
      "cell_type": "code",
      "source": [
        "a = 5\n",
        "d = 10\n",
        "\n",
        "a, d = d, a\n",
        "print(\"a =\", a)\n",
        "print(\"d =\", d)"
      ],
      "metadata": {
        "colab": {
          "base_uri": "https://localhost:8080/"
        },
        "id": "FvQZ6httUjYg",
        "outputId": "233f50c2-a967-488e-cea6-3c94ce8e3869"
      },
      "execution_count": null,
      "outputs": [
        {
          "output_type": "stream",
          "name": "stdout",
          "text": [
            "a = 10\n",
            "d = 5\n"
          ]
        }
      ]
    },
    {
      "cell_type": "code",
      "source": [
        "5. Write a Python program to generate a random number?"
      ],
      "metadata": {
        "id": "g0whVVzrU5OR"
      },
      "execution_count": null,
      "outputs": []
    },
    {
      "cell_type": "code",
      "source": [
        "import random \n",
        "rand_number = random.randint(0,100)\n",
        "print(rand_number)"
      ],
      "metadata": {
        "colab": {
          "base_uri": "https://localhost:8080/"
        },
        "id": "bIWaRb1xU6ef",
        "outputId": "9934a2b2-3c41-47d2-d0d3-995431de1549"
      },
      "execution_count": null,
      "outputs": [
        {
          "output_type": "stream",
          "name": "stdout",
          "text": [
            "72\n"
          ]
        }
      ]
    },
    {
      "cell_type": "markdown",
      "source": [
        "#Section B:"
      ],
      "metadata": {
        "id": "13N2NeTuVA4K"
      }
    },
    {
      "cell_type": "markdown",
      "source": [
        "1. Write a Python program to convert kilometers to miles?"
      ],
      "metadata": {
        "id": "o_cKRWSpVEzy"
      }
    },
    {
      "cell_type": "code",
      "source": [
        "kilometers = float(input(\"Enter no of kilometers: \"))\n",
        "miles = kilometers*0.621371\n",
        "print(kilometers, 'km = ', miles,' miles')"
      ],
      "metadata": {
        "colab": {
          "base_uri": "https://localhost:8080/"
        },
        "id": "46ErQYZAU9PN",
        "outputId": "2837fad1-a946-4057-9106-0bb04806739f"
      },
      "execution_count": null,
      "outputs": [
        {
          "output_type": "stream",
          "name": "stdout",
          "text": [
            "Enter no of kilometers: 5\n",
            "5.0 km =  3.106855  miles\n"
          ]
        }
      ]
    },
    {
      "cell_type": "markdown",
      "source": [
        "2. Write a Python program to convert Celsius to Fahrenheit?"
      ],
      "metadata": {
        "id": "kP87CVJoVVmi"
      }
    },
    {
      "cell_type": "code",
      "source": [
        "Celsius = float(input('Enter the temperature in Celsius: '))\n",
        "Fahrenheit = (Celsius * 1.8) + 32\n",
        "print(Celsius, ' C = ', Fahrenheit , 'F')"
      ],
      "metadata": {
        "colab": {
          "base_uri": "https://localhost:8080/"
        },
        "id": "6MN6Fe9RVU6X",
        "outputId": "91f91a94-d654-4d2a-b6d9-331166ee91c9"
      },
      "execution_count": null,
      "outputs": [
        {
          "output_type": "stream",
          "name": "stdout",
          "text": [
            "Enter the temperature in Celsius: 90\n",
            "90.0  C is  194.0 F\n"
          ]
        }
      ]
    },
    {
      "cell_type": "markdown",
      "source": [
        "3. Write a Python program to display calendar?"
      ],
      "metadata": {
        "id": "NYrTavZaVpN9"
      }
    },
    {
      "cell_type": "code",
      "source": [
        "import calendar\n",
        " \n",
        "yy = 2022\n",
        "mm = 8\n",
        " \n",
        "print(calendar.month(yy, mm))"
      ],
      "metadata": {
        "colab": {
          "base_uri": "https://localhost:8080/"
        },
        "id": "A77wFh2jVefp",
        "outputId": "07c097b5-cd06-433c-d60a-b3e2c9e9f265"
      },
      "execution_count": null,
      "outputs": [
        {
          "output_type": "stream",
          "name": "stdout",
          "text": [
            "    August 2022\n",
            "Mo Tu We Th Fr Sa Su\n",
            " 1  2  3  4  5  6  7\n",
            " 8  9 10 11 12 13 14\n",
            "15 16 17 18 19 20 21\n",
            "22 23 24 25 26 27 28\n",
            "29 30 31\n",
            "\n"
          ]
        }
      ]
    },
    {
      "cell_type": "markdown",
      "source": [
        "4. Write a Python program to solve quadratic equation?"
      ],
      "metadata": {
        "id": "T3p7MiXdVuyP"
      }
    },
    {
      "cell_type": "code",
      "source": [
        "import math\n",
        "a = int(input('Enter value of a: '))\n",
        "b = int(input('Enter value of b: '))\n",
        "c = int(input('Enter value of c: '))\n",
        "\n",
        "D = ((b**2)- (4*a*c))\n",
        "solution1 = (-b+math.sqrt(D))/(2*a)\n",
        "solution2 = (-b-math.sqrt(D))/(2*a)\n",
        "\n",
        "print(solution1,'and',solution2)"
      ],
      "metadata": {
        "id": "hOlDbDOCWdCV"
      },
      "execution_count": null,
      "outputs": []
    },
    {
      "cell_type": "markdown",
      "source": [
        "5. Write a Python program to swap two variables without temp variable?"
      ],
      "metadata": {
        "id": "eyqjusxnWi18"
      }
    },
    {
      "cell_type": "code",
      "source": [
        "x = 10\n",
        "y = 5\n",
        "\n",
        "temp = x\n",
        "x = y\n",
        "y = temp\n",
        "\n",
        "print(x)\n",
        "print(y)"
      ],
      "metadata": {
        "colab": {
          "base_uri": "https://localhost:8080/"
        },
        "id": "gV5_V3xVWfoH",
        "outputId": "2a91bc4f-b59b-4eac-bfd8-5f6392ae3163"
      },
      "execution_count": null,
      "outputs": [
        {
          "output_type": "stream",
          "name": "stdout",
          "text": [
            "5\n",
            "10\n"
          ]
        }
      ]
    },
    {
      "cell_type": "markdown",
      "source": [
        "#Section C:"
      ],
      "metadata": {
        "id": "vsG99nVwWnBD"
      }
    },
    {
      "cell_type": "markdown",
      "source": [
        "1. Write a Python Program to Check if a Number is Positive, Negative or Zero?"
      ],
      "metadata": {
        "id": "RMgI6dGpWsnM"
      }
    },
    {
      "cell_type": "code",
      "source": [
        "num = int(input('Enter a number: '))\n",
        "if num>0:\n",
        "  print(num,' is positive')\n",
        "elif num==0:\n",
        "  print('Zero')\n",
        "elif num<0:\n",
        "  print(num,' is negative')"
      ],
      "metadata": {
        "id": "0aEzqozbWsQw"
      },
      "execution_count": null,
      "outputs": []
    },
    {
      "cell_type": "markdown",
      "source": [
        "2. Write a Python Program to Check if a Number is Odd or Even?"
      ],
      "metadata": {
        "id": "2SDS5uFBXB2M"
      }
    },
    {
      "cell_type": "code",
      "source": [
        "num = int(input('Enter a number: '))\n",
        "if num%2==0:\n",
        "  print(num,' is Even')\n",
        "else:\n",
        "  print('{0} is Odd'.format(num))"
      ],
      "metadata": {
        "colab": {
          "base_uri": "https://localhost:8080/"
        },
        "id": "Qga7D7bJXGRO",
        "outputId": "ebff25d9-6736-4ba7-9254-8797b41496ac"
      },
      "execution_count": null,
      "outputs": [
        {
          "output_type": "stream",
          "name": "stdout",
          "text": [
            "Enter a number: 5\n",
            "5 is Odd\n"
          ]
        }
      ]
    },
    {
      "cell_type": "markdown",
      "source": [
        "3. Write a Python Program to Check Leap Year?"
      ],
      "metadata": {
        "id": "mgbM0ARzXQl5"
      }
    },
    {
      "cell_type": "code",
      "source": [
        "year = int(input(\"Enter the year: \"))\n",
        "if year % 4 == 0 and year % 100 != 0:\n",
        "    print(year, \"is a leap year.\")\n",
        "elif year % 400 == 0:\n",
        "    print(year, \"is a leap year.\")\n",
        "elif year % 100 == 0:\n",
        "    print(year, \"is not a leap year.\")\n",
        "else:\n",
        "    print(year, \"is not a leap year.\")"
      ],
      "metadata": {
        "id": "g1lgQ34pXTtd"
      },
      "execution_count": null,
      "outputs": []
    },
    {
      "cell_type": "markdown",
      "source": [
        "4. Write a Python Program to Check Prime Number?"
      ],
      "metadata": {
        "id": "1Q36b1irXXLA"
      }
    },
    {
      "cell_type": "code",
      "source": [
        "num = int(input(\"Enter a number: \"))\n",
        "\n",
        "if num > 1:\n",
        "   \n",
        "    for i in range(2, int(num/2)+1):\n",
        "        if (num % i) == 0:\n",
        "            print(num, \"is not a prime number\")\n",
        "            break\n",
        "    else:\n",
        "        print(num, \"is a prime number\")\n",
        "else:\n",
        "    print(num, \"is not a prime number\")"
      ],
      "metadata": {
        "id": "rqlgWFMEXb3N"
      },
      "execution_count": null,
      "outputs": []
    },
    {
      "cell_type": "markdown",
      "source": [
        "5. Write a Python Program to Print all Prime Numbers in an Interval of 1-10000?"
      ],
      "metadata": {
        "id": "S2xF10OVXf5d"
      }
    },
    {
      "cell_type": "code",
      "source": [
        "lowerlimit = 1\n",
        "upperlimit = 10000\n",
        "\n",
        "for num in range(lowerlimit, upperlimit+ 1):\n",
        "   if num > 1:\n",
        "       for i in range(2, num):\n",
        "           if (num % i) == 0:\n",
        "               break\n",
        "       else:\n",
        "           print(num)"
      ],
      "metadata": {
        "id": "-NS1331LXu1N"
      },
      "execution_count": null,
      "outputs": []
    },
    {
      "cell_type": "markdown",
      "source": [
        "#Section D:"
      ],
      "metadata": {
        "id": "LYgFS0_rX9OK"
      }
    },
    {
      "cell_type": "markdown",
      "source": [
        "1. Write a Python Program to Find the Factorial of a Number?"
      ],
      "metadata": {
        "id": "weV49YyxX9m6"
      }
    },
    {
      "cell_type": "code",
      "source": [
        "def factorial(a):\n",
        "  if a==1:\n",
        "    return 1\n",
        "  else:\n",
        "    return a*factorial(a-1)\n",
        "\n",
        "x = int(input())\n",
        "res = factorial(x)\n",
        "print(res)"
      ],
      "metadata": {
        "id": "u29LGNmIYDJu"
      },
      "execution_count": null,
      "outputs": []
    },
    {
      "cell_type": "markdown",
      "source": [
        "2. Write a Python Program to Display the multiplication Table?"
      ],
      "metadata": {
        "id": "WMDp5UHsYGgh"
      }
    },
    {
      "cell_type": "code",
      "source": [
        "number = int(input())\n",
        "for i in range(1,11):\n",
        "  print(number,\" x \",i,\" = \",number*i)"
      ],
      "metadata": {
        "id": "ew7uj3heYGJU"
      },
      "execution_count": null,
      "outputs": []
    },
    {
      "cell_type": "markdown",
      "source": [
        "3. Write a Python Program to Print the Fibonacci sequence?"
      ],
      "metadata": {
        "id": "tPkl7sXzYMkb"
      }
    },
    {
      "cell_type": "code",
      "source": [
        "n = int(input())\n",
        "a = 0\n",
        "b = 1\n",
        "res = 0\n",
        "if n <= 0 : \n",
        "  print(\"Not valid\")\n",
        "elif n == 1:\n",
        "  print(a)\n",
        "else:\n",
        "  print(\"Fibonnaci Sequence: \")\n",
        "  while res < n :\n",
        "    print(a)\n",
        "    nth= a + b\n",
        "    a = b \n",
        "    b = nth\n",
        "    res += 1"
      ],
      "metadata": {
        "id": "D7xE8qkJY5Kr"
      },
      "execution_count": null,
      "outputs": []
    },
    {
      "cell_type": "markdown",
      "source": [
        "4. Write a Python Program to Check Armstrong Number?"
      ],
      "metadata": {
        "id": "cD3mq7IvZF_Q"
      }
    },
    {
      "cell_type": "code",
      "source": [
        "n= int(input(\"Enter a number: \"))\n",
        "s = 0 \n",
        "t = n \n",
        "while t > 0:\n",
        "  digit = t%10\n",
        "  s += digit**3\n",
        "  t = t//10\n",
        "\n",
        "if n == s:\n",
        "   print(n,\"is an Armstrong number\")\n",
        "else:\n",
        "   print(n,\"is not an Armstrong number\")"
      ],
      "metadata": {
        "colab": {
          "base_uri": "https://localhost:8080/"
        },
        "id": "3YSgyhvIZJQs",
        "outputId": "f45120e4-1d61-4091-c895-cdfaf0161468"
      },
      "execution_count": null,
      "outputs": [
        {
          "output_type": "stream",
          "name": "stdout",
          "text": [
            "Enter a number: 56\n",
            "56 is not an Armstrong number\n"
          ]
        }
      ]
    },
    {
      "cell_type": "markdown",
      "source": [
        "5. Write a Python Program to Find Armstrong Number in an Interval?"
      ],
      "metadata": {
        "id": "uRwuRVHLZjx9"
      }
    },
    {
      "cell_type": "code",
      "source": [
        "lower  = int(input(\"enter the lower limit: \"))\n",
        "upper = int(input(\"enter the upper limit: \"))\n",
        "for i in range(lower, upper+1):\n",
        "  sum =0\n",
        "  num = i\n",
        "  while(i!=0):\n",
        "    digit=i%10\n",
        "    sum = sum + (digit**3)\n",
        "    i = i//10\n",
        "  if num == sum:\n",
        "    print(num)"
      ],
      "metadata": {
        "id": "kEq7-LEXZnGe"
      },
      "execution_count": null,
      "outputs": []
    },
    {
      "cell_type": "markdown",
      "source": [
        "6. Write a Python Program to Find the Sum of Natural Numbers?"
      ],
      "metadata": {
        "id": "rp-AVTYcZvu0"
      }
    },
    {
      "cell_type": "code",
      "source": [
        "def sumofn(n):\n",
        "   if n <= 1:\n",
        "       return n\n",
        "   else:\n",
        "       return n + sumofn(n-1)\n",
        "x = int(input(\"Enter a number: \"))\n",
        "s = sumofn(x)\n",
        "print(s)"
      ],
      "metadata": {
        "id": "3dndObSHZvdK"
      },
      "execution_count": null,
      "outputs": []
    },
    {
      "cell_type": "markdown",
      "source": [
        "#Section E:"
      ],
      "metadata": {
        "id": "-ZlwdILAZ7NC"
      }
    },
    {
      "cell_type": "markdown",
      "source": [
        "1. Write a Python Program to find sum of array?"
      ],
      "metadata": {
        "id": "JlbgPC_sZ_Pa"
      }
    },
    {
      "cell_type": "code",
      "source": [
        "arr = [2, 3, 4, 5, 25]\n",
        "for i in arr:\n",
        "  sum += i\n",
        "print(sum)"
      ],
      "metadata": {
        "colab": {
          "base_uri": "https://localhost:8080/"
        },
        "id": "A3zHwxkBaCsw",
        "outputId": "f81324d0-8db9-4cf0-923d-9aa0c80af2d8"
      },
      "execution_count": null,
      "outputs": [
        {
          "output_type": "stream",
          "name": "stdout",
          "text": [
            "64\n"
          ]
        }
      ]
    },
    {
      "cell_type": "markdown",
      "source": [
        "2. Write a Python Program to find largest element in an array?"
      ],
      "metadata": {
        "id": "FBQ3gb1gaY-Z"
      }
    },
    {
      "cell_type": "code",
      "source": [
        "arr = [2, 3, 4, 1, 5, 23]\n",
        "lar = 0\n",
        "for i in range(len(arr)):\n",
        "  if arr[i] > lar:\n",
        "    lar = arr[i]\n",
        "print(lar)"
      ],
      "metadata": {
        "colab": {
          "base_uri": "https://localhost:8080/"
        },
        "id": "Z5aJ5mZsaYbu",
        "outputId": "68ae7440-a964-483f-abad-c5b5b69f755d"
      },
      "execution_count": null,
      "outputs": [
        {
          "output_type": "stream",
          "name": "stdout",
          "text": [
            "23\n"
          ]
        }
      ]
    },
    {
      "cell_type": "markdown",
      "source": [
        "3. Write a Python Program for array rotation?"
      ],
      "metadata": {
        "id": "dcAKVEnEarp8"
      }
    },
    {
      "cell_type": "code",
      "source": [
        ""
      ],
      "metadata": {
        "id": "mt6QIuxfgLI5"
      },
      "execution_count": null,
      "outputs": []
    }
  ]
}