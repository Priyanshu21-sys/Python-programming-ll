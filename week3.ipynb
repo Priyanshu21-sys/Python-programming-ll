{
  "nbformat": 4,
  "nbformat_minor": 0,
  "metadata": {
    "colab": {
      "provenance": [],
      "authorship_tag": "ABX9TyOUNSxYRRhalg7CeeoHn/3j",
      "include_colab_link": true
    },
    "kernelspec": {
      "name": "python3",
      "display_name": "Python 3"
    },
    "language_info": {
      "name": "python"
    }
  },
  "cells": [
    {
      "cell_type": "markdown",
      "metadata": {
        "id": "view-in-github",
        "colab_type": "text"
      },
      "source": [
        "<a href=\"https://colab.research.google.com/github/Priyanshu21-sys/Python-programming-ll/blob/main/week3.ipynb\" target=\"_parent\"><img src=\"https://colab.research.google.com/assets/colab-badge.svg\" alt=\"Open In Colab\"/></a>"
      ]
    },
    {
      "cell_type": "markdown",
      "source": [
        "PRIYANSHU MANOHAR PATIL,BRANCH-EXTC,\n",
        "ROLL.NO-55"
      ],
      "metadata": {
        "id": "g6PjNupA__T8"
      }
    },
    {
      "cell_type": "markdown",
      "source": [
        "#Section A"
      ],
      "metadata": {
        "id": "x77aY9Wi__IJ"
      }
    },
    {
      "cell_type": "markdown",
      "source": [
        "1"
      ],
      "metadata": {
        "id": "cgtLdbxjFjbH"
      }
    },
    {
      "cell_type": "code",
      "execution_count": 1,
      "metadata": {
        "id": "WMjfQDIK-hM4",
        "colab": {
          "base_uri": "https://localhost:8080/",
          "height": 0
        },
        "outputId": "58db68f0-6bb0-4165-c343-f34e98f089c7"
      },
      "outputs": [
        {
          "output_type": "stream",
          "name": "stdout",
          "text": [
            "the sum of the numbers that are evenly divided by  4 from the range   1 to  20 is 60\n"
          ]
        }
      ],
      "source": [
        "def divide(a,b,c):\n",
        "  sum1 =[]\n",
        "  add1 = 0\n",
        "  for i in range(a,b+1):\n",
        "    if i%c==0:\n",
        "      sum1.append(i)\n",
        "    else:\n",
        "      pass\n",
        "  if sum(sum1)==0:\n",
        "    print(\"no number between\", a ,\"and\", b, \"can be evenly divided by \", c)\n",
        "  else:\n",
        "    total = sum(sum1)\n",
        "    print(\"the sum of the numbers that are evenly divided by \", c, \"from the range  \", a ,\"to \",  b,\"is\",total)\n",
        "divide(1,20,4)"
      ]
    },
    {
      "cell_type": "markdown",
      "source": [
        "2\n"
      ],
      "metadata": {
        "id": "gi-tAroGFlE_"
      }
    },
    {
      "cell_type": "code",
      "source": [
        "def replace():\n",
        "  print(\"Enter a string: \")\n",
        "  str =input()\n",
        "  print(\"enter desired character: \")\n",
        "  char=input()\n",
        "  newstr= \"\"\n",
        "  for i in range(len(str)):\n",
        "    if str[i]=='a' or str[i]=='e'or str[i]=='i'or str[i]=='o'or str[i]=='u' :\n",
        "      newstr = newstr +char\n",
        "    else:\n",
        "      newstr = newstr +str[i]\n",
        "  print(\"\\nOriginal String: \", str)\n",
        "  print(\"New string: \", newstr)\n",
        "replace()"
      ],
      "metadata": {
        "colab": {
          "base_uri": "https://localhost:8080/",
          "height": 0
        },
        "id": "_c2cN7bvAgJ3",
        "outputId": "6cf15e7e-cfb8-4857-d6c8-11ab55f82a3b"
      },
      "execution_count": 3,
      "outputs": [
        {
          "output_type": "stream",
          "name": "stdout",
          "text": [
            "Enter a string: \n",
            "piyush\n",
            "enter desired character: \n",
            "pruyanshu\n",
            "\n",
            "Original String:  piyush\n",
            "New string:  ppruyanshuypruyanshush\n"
          ]
        }
      ]
    },
    {
      "cell_type": "markdown",
      "source": [
        "3\n"
      ],
      "metadata": {
        "id": "mFsQxdzzFnWo"
      }
    },
    {
      "cell_type": "code",
      "source": [
        "def (a):\n",
        "  if a ==1:\n",
        "    return 1\n",
        "  else:\n",
        "    return a*(a-1)\n",
        "\n",
        "x = int(input())\n",
        "res =(x)\n",
        "print(res)"
      ],
      "metadata": {
        "id": "IAzSJM_sAn9N"
      },
      "execution_count": null,
      "outputs": []
    },
    {
      "cell_type": "markdown",
      "source": [
        "4\n"
      ],
      "metadata": {
        "id": "E8N9Sl-XFoPf"
      }
    },
    {
      "cell_type": "code",
      "source": [
        "def checkexpression(s):\n",
        "  expres = eval(s)\n",
        "  if expres:\n",
        "    return True\n",
        "  else:\n",
        "    return False\n",
        "  \n",
        "checkexpression(\"4<9<45\")"
      ],
      "metadata": {
        "colab": {
          "base_uri": "https://localhost:8080/",
          "height": 0
        },
        "id": "u6gARalCBq4b",
        "outputId": "d867498e-e868-409a-c0c8-9e91ef27aa00"
      },
      "execution_count": 12,
      "outputs": [
        {
          "output_type": "execute_result",
          "data": {
            "text/plain": [
              "True"
            ]
          },
          "metadata": {},
          "execution_count": 12
        }
      ]
    },
    {
      "cell_type": "markdown",
      "source": [
        "5\n"
      ],
      "metadata": {
        "id": "-91GJxZ8FpUB"
      }
    },
    {
      "cell_type": "code",
      "source": [
        "def hamming(stri1 ,stri2):\n",
        "  i = 0\n",
        "  count=0\n",
        "  while i<len(stri1):\n",
        "    if stri1[i] != stri2[i]:\n",
        "      count += 1\n",
        "    i +=1\n",
        "  print(\"Hamming distance between\" ,stri1, \"and\",stri2,\"is :\",count)\n",
        "\n",
        "hamming(\"abcd\", \"bcdf\")"
      ],
      "metadata": {
        "colab": {
          "base_uri": "https://localhost:8080/",
          "height": 0
        },
        "id": "411b9pkPBwiw",
        "outputId": "929b496d-33dc-47d4-bf5f-9e7703fe01b6"
      },
      "execution_count": 15,
      "outputs": [
        {
          "output_type": "stream",
          "name": "stdout",
          "text": [
            "Hamming distance between abcd and bcdf is : 4\n"
          ]
        }
      ]
    },
    {
      "cell_type": "markdown",
      "source": [
        "6\n"
      ],
      "metadata": {
        "id": "eRMdmys4FqUG"
      }
    },
    {
      "cell_type": "markdown",
      "source": [
        "#Section B"
      ],
      "metadata": {
        "id": "VkImkrKXCTDO"
      }
    },
    {
      "cell_type": "markdown",
      "source": [
        "1\n"
      ],
      "metadata": {
        "id": "ayqiCjNXFrih"
      }
    },
    {
      "cell_type": "code",
      "source": [
        "def sort(l):\n",
        "  newl =[]\n",
        "  for i in l:\n",
        "    if i == int:\n",
        "      newl = newl.append(i)\n",
        "    else:\n",
        "      pass\n",
        "  print(newl)\n",
        "x = [1,2,3,'d',4]\n",
        "sort(x)"
      ],
      "metadata": {
        "colab": {
          "base_uri": "https://localhost:8080/",
          "height": 0
        },
        "id": "K4i7fv-pCLiW",
        "outputId": "90d5250d-1e73-4fac-f331-5312b8f095a5"
      },
      "execution_count": 16,
      "outputs": [
        {
          "output_type": "stream",
          "name": "stdout",
          "text": [
            "[]\n"
          ]
        }
      ]
    },
    {
      "cell_type": "markdown",
      "source": [
        "2\n"
      ],
      "metadata": {
        "id": "8jnOybKcFsq1"
      }
    },
    {
      "cell_type": "code",
      "source": [
        "  s =input()\n",
        "  reverse = \"\"\n",
        "  for i in range(len(s)-1,-1,-1):\n",
        "    reverse += s[i]\n",
        "  print(reverse)"
      ],
      "metadata": {
        "colab": {
          "base_uri": "https://localhost:8080/",
          "height": 0
        },
        "id": "-xnonSLmCeCX",
        "outputId": "d5be7480-4894-4728-fde4-a6d7eb3ab0a1"
      },
      "execution_count": 25,
      "outputs": [
        {
          "output_type": "stream",
          "name": "stdout",
          "text": [
            "ram\n",
            "mar\n"
          ]
        }
      ]
    },
    {
      "cell_type": "markdown",
      "source": [
        "3\n"
      ],
      "metadata": {
        "id": "ol42D9YVFt1J"
      }
    },
    {
      "cell_type": "code",
      "source": [
        "list=[1,2,3,4,5,6]\n",
        "fir=list[0]\n",
        "mid=list[1:-1]\n",
        "last=list[-1]\n",
        "print(\"fir =\",fir )\n",
        "print(\"mid =\",mid)\n",
        "print(\"last = \",last)"
      ],
      "metadata": {
        "colab": {
          "base_uri": "https://localhost:8080/",
          "height": 0
        },
        "id": "YNqaKMYdDAyS",
        "outputId": "a6261ec6-89ae-4c4e-bfb4-a48856ceb086"
      },
      "execution_count": 26,
      "outputs": [
        {
          "output_type": "stream",
          "name": "stdout",
          "text": [
            "fir = 1\n",
            "mid = [2, 3, 4, 5]\n",
            "last =  6\n"
          ]
        }
      ]
    },
    {
      "cell_type": "markdown",
      "source": [
        "4\n"
      ],
      "metadata": {
        "id": "HfW5kWs7Fu4T"
      }
    },
    {
      "cell_type": "code",
      "source": [
        "def fact(n):\n",
        "   if n == 1:\n",
        "       return n\n",
        "   else:\n",
        "       return n*fact(n-1)\n",
        "\n",
        "num = int(input(\"Enter the number : \"))\n",
        "\n",
        "\n",
        "if num < 0:\n",
        "   print(\"Sorry\")\n",
        "elif num == 0:\n",
        "   print(\"The factorial of 0 is 1\")\n",
        "else:\n",
        "   print(\"The factorial of\", num, \"is\", fact(num))"
      ],
      "metadata": {
        "colab": {
          "base_uri": "https://localhost:8080/",
          "height": 0
        },
        "id": "56RoCRrZDPao",
        "outputId": "e2592336-d8bc-410a-a1f0-41357692a6c7"
      },
      "execution_count": 28,
      "outputs": [
        {
          "output_type": "stream",
          "name": "stdout",
          "text": [
            "Enter the number : 6\n",
            "The factorial of 6 is 720\n"
          ]
        }
      ]
    },
    {
      "cell_type": "markdown",
      "source": [
        "5\n"
      ],
      "metadata": {
        "id": "Q2iup5w0FwAZ"
      }
    },
    {
      "cell_type": "code",
      "source": [
        "def move_to_end(array, Move):\n",
        "    i = 0\n",
        "    s = len(array) - 1\n",
        "    while (i < s):\n",
        "        while (i < s and array[s] == Move):\n",
        "            s-=1\n",
        "  \n",
        "        if (array[i] == Move):\n",
        "            array[i], array[s] = array[s] , array[i]\n",
        "        i += 1\n",
        "    return array\n",
        "\n",
        "arr = ['1', '5', 'x', 'y']\n",
        "k = 'x'\n",
        "res = move_to_end(arr, k)\n",
        "for i in range(len(arr)):\n",
        "    print(res[i] ,end= \" \")"
      ],
      "metadata": {
        "colab": {
          "base_uri": "https://localhost:8080/",
          "height": 0
        },
        "id": "E_XMNzigDygb",
        "outputId": "22e6f77c-5bcd-47cb-bc11-eab9abd4eba8"
      },
      "execution_count": 30,
      "outputs": [
        {
          "output_type": "stream",
          "name": "stdout",
          "text": [
            "1 5 y x "
          ]
        }
      ]
    },
    {
      "cell_type": "markdown",
      "source": [
        "#Section C"
      ],
      "metadata": {
        "id": "XNJeXuNkEBvZ"
      }
    },
    {
      "cell_type": "markdown",
      "source": [
        "1\n"
      ],
      "metadata": {
        "id": "nbENgRb9FyGD"
      }
    },
    {
      "cell_type": "code",
      "source": [
        "def repstr(str):\n",
        "    return ''.join([c+c for c in str])\n",
        "\n",
        "print(repstr('ring'))"
      ],
      "metadata": {
        "colab": {
          "base_uri": "https://localhost:8080/",
          "height": 0
        },
        "id": "gnfmXNAYEAgv",
        "outputId": "729c5833-1400-4c9b-e096-f95454327ad5"
      },
      "execution_count": 32,
      "outputs": [
        {
          "output_type": "stream",
          "name": "stdout",
          "text": [
            "rriinngg\n"
          ]
        }
      ]
    },
    {
      "cell_type": "markdown",
      "source": [
        "2\n"
      ],
      "metadata": {
        "id": "CW9dfMZdFzWf"
      }
    },
    {
      "cell_type": "code",
      "source": [
        "def reverse_func(args):\n",
        "\tif isinstance(args, bool):\n",
        "\t\treturn not args\n",
        "\telse:\n",
        "\t\treturn('boolean expected')\n",
        "\n",
        "def reverse(args=None):\n",
        "\treturn not args if type(args) == bool else \"boolean expected\"\n",
        "\n",
        "print(reverse(True)) \n",
        "print(reverse(False)) \n",
        "print(reverse(0)) \n",
        "print(reverse(None))"
      ],
      "metadata": {
        "colab": {
          "base_uri": "https://localhost:8080/",
          "height": 0
        },
        "id": "wnglxvE8EOqa",
        "outputId": "1415e02a-b86a-4db8-b6a4-2aa21724ea80"
      },
      "execution_count": 33,
      "outputs": [
        {
          "output_type": "stream",
          "name": "stdout",
          "text": [
            "False\n",
            "True\n",
            "boolean expected\n",
            "boolean expected\n"
          ]
        }
      ]
    },
    {
      "cell_type": "markdown",
      "source": [
        "3"
      ],
      "metadata": {
        "id": "6ZBXDQFoEX85"
      }
    },
    {
      "cell_type": "code",
      "source": [
        "def func2(c):\n",
        "    result = 0.5\n",
        "    for i in range(c):\n",
        "        result *= 2\n",
        "    \n",
        "    return result / 1000 \n",
        "func2(1)"
      ],
      "metadata": {
        "colab": {
          "base_uri": "https://localhost:8080/",
          "height": 0
        },
        "id": "tiwR4rgUETt8",
        "outputId": "7fd6bd83-9b05-4bb9-e5c8-ea7f19e56764"
      },
      "execution_count": 35,
      "outputs": [
        {
          "output_type": "execute_result",
          "data": {
            "text/plain": [
              "0.001"
            ]
          },
          "metadata": {},
          "execution_count": 35
        }
      ]
    },
    {
      "cell_type": "markdown",
      "source": [
        "4"
      ],
      "metadata": {
        "id": "RnGtpwyjEmN8"
      }
    },
    {
      "cell_type": "code",
      "source": [
        "test1 = \"BOss patil\"\n",
        " \n",
        "\n",
        "print(\"The original string is : \" + str(test1))\n",
        " \n",
        "\n",
        "result = [idx for idx in range(len(test1)) if test1[idx].isupper()]\n",
        " \n",
        "\n",
        "print(\"Uppercase elements indices : \" + str(result ))"
      ],
      "metadata": {
        "colab": {
          "base_uri": "https://localhost:8080/",
          "height": 0
        },
        "id": "FBrjEHSgEm-O",
        "outputId": "3b03b02b-f2bc-4086-e9bc-cc48f151a890"
      },
      "execution_count": 38,
      "outputs": [
        {
          "output_type": "stream",
          "name": "stdout",
          "text": [
            "The original string is : BOss patil\n",
            "Uppercase elements indices : [0, 1]\n"
          ]
        }
      ]
    },
    {
      "cell_type": "markdown",
      "source": [
        "5\n"
      ],
      "metadata": {
        "id": "LFVGv7ABE1fx"
      }
    },
    {
      "cell_type": "code",
      "source": [
        "\n",
        "test_list=[i for i in range (5) if(i%2==0)]\n",
        "\n",
        "print(test_list)"
      ],
      "metadata": {
        "colab": {
          "base_uri": "https://localhost:8080/",
          "height": 0
        },
        "id": "X5xIrlCHE2P1",
        "outputId": "32f337cb-b4af-4750-fa6d-50fa7416483d"
      },
      "execution_count": 39,
      "outputs": [
        {
          "output_type": "stream",
          "name": "stdout",
          "text": [
            "[0, 2, 4]\n"
          ]
        }
      ]
    },
    {
      "cell_type": "markdown",
      "source": [
        "#Section D"
      ],
      "metadata": {
        "id": "5Muu5VRmE4_w"
      }
    },
    {
      "cell_type": "markdown",
      "source": [
        "1"
      ],
      "metadata": {
        "id": "TRvG3ZbDFB84"
      }
    },
    {
      "cell_type": "code",
      "source": [
        "list1 = [3,4,5,\"asdfg\", \"Hkjygr\"]\n",
        "output = [x for x in list1 if type(x) != str]\n",
        "print(output)"
      ],
      "metadata": {
        "colab": {
          "base_uri": "https://localhost:8080/",
          "height": 0
        },
        "id": "dHE3z5pYE4vM",
        "outputId": "c367f24a-a529-481b-dfc7-bfca4f67f7ed"
      },
      "execution_count": 40,
      "outputs": [
        {
          "output_type": "stream",
          "name": "stdout",
          "text": [
            "[3, 4, 5]\n"
          ]
        }
      ]
    },
    {
      "cell_type": "markdown",
      "source": [
        "2\n"
      ],
      "metadata": {
        "id": "lYB2LsIXFKmm"
      }
    },
    {
      "cell_type": "code",
      "source": [
        "def add(list1):\n",
        "    sum = 0\n",
        "    index = []\n",
        "    for i in list1:\n",
        "        index.append(list1.index(i,sum) + i)\n",
        "        sum+=1\n",
        "    return index\n",
        "\n",
        "add([1, 2, 3, 4, 5])"
      ],
      "metadata": {
        "colab": {
          "base_uri": "https://localhost:8080/",
          "height": 0
        },
        "id": "WH8-9x0eFLnO",
        "outputId": "af0e794c-db10-40c0-f4e3-8983aa084945"
      },
      "execution_count": 41,
      "outputs": [
        {
          "output_type": "execute_result",
          "data": {
            "text/plain": [
              "[1, 3, 5, 7, 9]"
            ]
          },
          "metadata": {},
          "execution_count": 41
        }
      ]
    },
    {
      "cell_type": "markdown",
      "source": [
        "3\n"
      ],
      "metadata": {
        "id": "PToa4japFQKo"
      }
    },
    {
      "cell_type": "code",
      "source": [
        "import math\n",
        "Pi = math.pi\n",
        "def volume1(r, h):\n",
        "    return (1 / 3) * Pi * r * r * h\n",
        "def surface_area(r, s):\n",
        "    return Pi * r * s + Pi * r * r\n",
        "radius = float(5)\n",
        "height = float(3)\n",
        "slant_height = float(5)\n",
        "print( \"Volume Of Cone : \", volume1(radius, height) )\n",
        "print( \"Surface Area Of Cone : \", surface_area(radius, slant_height) )"
      ],
      "metadata": {
        "colab": {
          "base_uri": "https://localhost:8080/",
          "height": 0
        },
        "id": "gOshGXHMFPN9",
        "outputId": "043bacfd-12bd-428e-813a-16147703a521"
      },
      "execution_count": 43,
      "outputs": [
        {
          "output_type": "stream",
          "name": "stdout",
          "text": [
            "Volume Of Cone :  78.53981633974482\n",
            "Surface Area Of Cone :  157.07963267948966\n"
          ]
        }
      ]
    },
    {
      "cell_type": "markdown",
      "source": [
        "4\n"
      ],
      "metadata": {
        "id": "CpM_p9CzFYZq"
      }
    },
    {
      "cell_type": "code",
      "source": [
        "\n",
        "def missing_number(list1):\n",
        "\n",
        "   for n in range(1,11):\n",
        "\n",
        "       if n not in list1:\n",
        "\n",
        "           print(n)\n",
        "\n",
        "list1 = (1,3,4,5,6,7,8,9,10)\n",
        "\n",
        "missing_number(list1)"
      ],
      "metadata": {
        "colab": {
          "base_uri": "https://localhost:8080/",
          "height": 0
        },
        "id": "syWNpNH7FZSV",
        "outputId": "c098371c-ddd0-4ab8-ad05-d456b429e4e5"
      },
      "execution_count": 44,
      "outputs": [
        {
          "output_type": "stream",
          "name": "stdout",
          "text": [
            "2\n"
          ]
        }
      ]
    }
  ]
}