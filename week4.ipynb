{
  "nbformat": 4,
  "nbformat_minor": 0,
  "metadata": {
    "colab": {
      "provenance": [],
      "authorship_tag": "ABX9TyOuO6dhRJamA76kt40ZS+7O",
      "include_colab_link": true
    },
    "kernelspec": {
      "name": "python3",
      "display_name": "Python 3"
    },
    "language_info": {
      "name": "python"
    }
  },
  "cells": [
    {
      "cell_type": "markdown",
      "metadata": {
        "id": "view-in-github",
        "colab_type": "text"
      },
      "source": [
        "<a href=\"https://colab.research.google.com/github/Priyanshu21-sys/Python-programming-ll/blob/main/week4.ipynb\" target=\"_parent\"><img src=\"https://colab.research.google.com/assets/colab-badge.svg\" alt=\"Open In Colab\"/></a>"
      ]
    },
    {
      "cell_type": "markdown",
      "source": [
        "PRIYANSHU MANOHAR PATIL,BRANCH-EXTC,\n",
        "ROLL.NO-55"
      ],
      "metadata": {
        "id": "jSmRrxq_HC9W"
      }
    },
    {
      "cell_type": "markdown",
      "source": [
        ".     Write a Python program to create a Vehicle class with max_speed and mileage instance attributes."
      ],
      "metadata": {
        "id": "MQm0AT-MHC0W"
      }
    },
    {
      "cell_type": "code",
      "execution_count": 1,
      "metadata": {
        "colab": {
          "base_uri": "https://localhost:8080/",
          "height": 0
        },
        "id": "tvyC5U5HG9-u",
        "outputId": "a058910d-da86-4138-e559-7cd3ab30a4ef"
      },
      "outputs": [
        {
          "output_type": "stream",
          "name": "stdout",
          "text": [
            "150 30\n"
          ]
        }
      ],
      "source": [
        "class vehicle:\n",
        "    def __init__(self, max_speed, mileage):\n",
        "        self.max_speed = max_speed\n",
        "        self.mileage = mileage\n",
        "        \n",
        "        \n",
        "car = vehicle(150,30 )\n",
        "print(car.max_speed, car.mileage)"
      ]
    },
    {
      "cell_type": "markdown",
      "source": [
        "2.     Create a Vehicle class without any variables and methods"
      ],
      "metadata": {
        "id": "QjdI1NuiHxO3"
      }
    },
    {
      "cell_type": "code",
      "source": [
        "class vehicle:\n",
        "    pass"
      ],
      "metadata": {
        "id": "Aktn66XMHwtC"
      },
      "execution_count": 3,
      "outputs": []
    },
    {
      "cell_type": "markdown",
      "source": [
        "3. Create a child class Bus that will inherit all of the variables and methods of the Vehicle class\n"
      ],
      "metadata": {
        "id": "qjXm66NnKCOe"
      }
    },
    {
      "cell_type": "code",
      "source": [
        "class vehicle:\n",
        "    def __init__(self, name, mileage, capacity):\n",
        "        self.name = name\n",
        "        self.mileage = mileage\n",
        "        self.capacity = capacity\n",
        "\n",
        "\n",
        "class Bus(vehicle):\n",
        "    pass"
      ],
      "metadata": {
        "id": "0ZV2KieJKIUr"
      },
      "execution_count": 5,
      "outputs": []
    },
    {
      "cell_type": "markdown",
      "source": [
        "4.     Create a Bus class that inherits from the Vehicle class. Give the capacity argument of Bus.seating_capacity() a default value of 50.\n"
      ],
      "metadata": {
        "id": "2hzGFX6ZKjIo"
      }
    },
    {
      "cell_type": "code",
      "source": [
        "class Vehicle:\n",
        "    def __init__(self, name, max_speed, mileage):\n",
        "        self.name = name\n",
        "        self.max_speed = max_speed\n",
        "        self.mileage = mileage\n",
        "\n",
        "    def bus_seating_capacity(self, capacity):\n",
        "        return capacity\n",
        "\n",
        "class Bus(Vehicle):\n",
        "    \n",
        "    def seating_capacity(self, capacity=50):\n",
        "        return super().bus_seating_capacity(capacity=50)\n",
        "bus = Bus(\"nano\", 80, 20)\n",
        "print(bus.seating_capacity())"
      ],
      "metadata": {
        "colab": {
          "base_uri": "https://localhost:8080/",
          "height": 0
        },
        "id": "MjWZiqkSKfB9",
        "outputId": "ab3df877-4cd2-40ea-fa05-d1282852dd96"
      },
      "execution_count": 6,
      "outputs": [
        {
          "output_type": "stream",
          "name": "stdout",
          "text": [
            "50\n"
          ]
        }
      ]
    },
    {
      "cell_type": "markdown",
      "source": [
        "Create a Bus child class that inherits from the Vehicle class. The default fare charge of any vehicle is seating capacity * 100. If Vehicle is Bus instance, we need to add an extra 10% on full fare as a maintenance charge. So total fare for bus instance will become the final amount = total fare + 10% of the total fare.\n"
      ],
      "metadata": {
        "id": "OdS-am2iKq6c"
      }
    },
    {
      "cell_type": "code",
      "source": [
        "class vehicle:\n",
        "    def __init__(self, name, mileage, capacity):\n",
        "        self.name = name\n",
        "        self.mileage = mileage\n",
        "        self.capacity = capacity\n",
        "\n",
        "    def busfare(self):\n",
        "        return self.capacity * 100\n",
        "\n",
        "class Bus(vehicle):\n",
        "    def busfare(self):\n",
        "        amount = super().busfare()\n",
        "        amount += amount * 10 / 100\n",
        "        return amount\n",
        "\n",
        "bus = Bus(\"nano\", 25, 50)\n",
        "print(\"Total Bus fare is:\", bus.busfare())"
      ],
      "metadata": {
        "colab": {
          "base_uri": "https://localhost:8080/",
          "height": 0
        },
        "id": "8nAYIpkCKnCl",
        "outputId": "60321a89-41db-4947-c694-fdb4273fa125"
      },
      "execution_count": 8,
      "outputs": [
        {
          "output_type": "stream",
          "name": "stdout",
          "text": [
            "Total Bus fare is: 5500.0\n"
          ]
        }
      ]
    }
  ]
}