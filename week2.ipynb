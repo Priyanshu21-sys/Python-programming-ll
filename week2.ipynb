{
  "cells": [
    {
      "cell_type": "markdown",
      "metadata": {
        "id": "view-in-github",
        "colab_type": "text"
      },
      "source": [
        "<a href=\"https://colab.research.google.com/github/Priyanshu21-sys/Python-programming-ll/blob/main/week2.ipynb\" target=\"_parent\"><img src=\"https://colab.research.google.com/assets/colab-badge.svg\" alt=\"Open In Colab\"/></a>"
      ]
    },
    {
      "cell_type": "markdown",
      "source": [
        "PRIYANSHU MANOHAR PATIL,BRANCH-EXTC,\n",
        "ROLL.NO-55"
      ],
      "metadata": {
        "id": "_tU4xtx48fEh"
      }
    },
    {
      "cell_type": "markdown",
      "metadata": {
        "id": "o9R0TCFaj3ab"
      },
      "source": [
        "#Section A"
      ]
    },
    {
      "cell_type": "markdown",
      "metadata": {
        "id": "29vKHnhykkYJ"
      },
      "source": [
        "1.Create a function that takes three integer arguments (a, b, c) and returns the amount of integers which are of equal value"
      ]
    },
    {
      "cell_type": "code",
      "execution_count": null,
      "metadata": {
        "colab": {
          "base_uri": "https://localhost:8080/"
        },
        "id": "TacBfEHZgyxz",
        "outputId": "571e689b-c144-4079-a2b3-48a0ba99283e"
      },
      "outputs": [
        {
          "output_type": "stream",
          "name": "stdout",
          "text": [
            "2\n"
          ]
        }
      ],
      "source": [
        "def num(x,y,z,) :\n",
        "  if x == y and x == z:\n",
        "    return 3\n",
        "  elif x==y or x==z:\n",
        "    return 2\n",
        "  else:\n",
        "    return 0\n",
        "print(num(0,1,0))"
      ]
    },
    {
      "cell_type": "markdown",
      "metadata": {
        "id": "_Ip4NdLUkxjy"
      },
      "source": [
        "2.Write a function that converts a dictionary into a list of keys-values tuples."
      ]
    },
    {
      "cell_type": "code",
      "execution_count": null,
      "metadata": {
        "colab": {
          "base_uri": "https://localhost:8080/"
        },
        "id": "8EbNuynnks25",
        "outputId": "e4d4e607-6922-4cac-b636-a720a63db849"
      },
      "outputs": [
        {
          "data": {
            "text/plain": [
              "[(1, '2'), (3, '4'), (5, '6'), (7, '8')]"
            ]
          },
          "execution_count": 3,
          "metadata": {},
          "output_type": "execute_result"
        }
      ],
      "source": [
        "def convert():\n",
        "  dict = {1: \"2\", 3: \"4\", 5: \"6\", 7: \"8\" }\n",
        "  list = [(k, v) for k, v in dict.items()]\n",
        "  return list\n",
        "convert()"
      ]
    },
    {
      "cell_type": "markdown",
      "metadata": {
        "id": "ho83Okjsk3yd"
      },
      "source": [
        "Write a function that creates a dictionary with each (key, value) pair being the (lower case, upper case) versions of a letter, respectively.\n",
        "\n"
      ]
    },
    {
      "cell_type": "code",
      "execution_count": null,
      "metadata": {
        "id": "LlBOykdlk3Lj"
      },
      "outputs": [],
      "source": [
        "def toupper():\n",
        "  list = ['p','i','y','u','s','h']\n",
        "  a = {}\n",
        "  for letters in list:\n",
        "    b = letters.upper()\n",
        "    a.update({letters:b})\n",
        "  print(a)"
      ]
    },
    {
      "cell_type": "markdown",
      "metadata": {
        "id": "jBazveyzoTko"
      },
      "source": [
        "Write a function, that replaces all vowels in a string with a specified vowel."
      ]
    },
    {
      "cell_type": "code",
      "execution_count": null,
      "metadata": {
        "colab": {
          "base_uri": "https://localhost:8080/"
        },
        "id": "yWa16L_AoS9V",
        "outputId": "683ee6c2-e760-44ef-f4b9-26a3f8208a0b"
      },
      "outputs": [
        {
          "output_type": "stream",
          "name": "stdout",
          "text": [
            "Enter the String: \n",
            "acd\n",
            "Enter a character: \n",
            "tsgf\n",
            "\n",
            "Original String: acd\n",
            "New String: tsgfcd\n"
          ]
        }
      ],
      "source": [
        "def change():\n",
        "  print(\"Enter the String: \")\n",
        "  str = input()\n",
        "\n",
        "  print(\"Enter a character: \")\n",
        "  char = input()\n",
        "\n",
        "  newstr = \"\"\n",
        "  for i in range(len(str)):\n",
        "      if str[i]=='a' or str[i]=='e' or str[i]=='i' or str[i]=='o' or str[i]=='u':\n",
        "          newstr = newstr + char\n",
        "      else:\n",
        "          newstr = newstr + str[i]\n",
        "\n",
        "  print(\"\\nOriginal String:\", str)\n",
        "  print(\"New String:\", newstr)\n",
        "change()"
      ]
    },
    {
      "cell_type": "markdown",
      "source": [
        "5.Create a function that takes a string as input and capitalizes a letter if its ASCII code is even and returns its lower case version if its ASCII code is odd.\n"
      ],
      "metadata": {
        "id": "OYDuPoUP66JU"
      }
    },
    {
      "cell_type": "code",
      "source": [
        "def capitalizer(st):\n",
        "  res = []\n",
        "  for index, c in enumerate(st):\n",
        "    if index % 2 == 0:\n",
        "      res.append(c.upper())\n",
        "    else:\n",
        "      res.append(c.lower())\n",
        "  return '' .join(res)\n",
        "print(capitalizer(\"how are you\"))"
      ],
      "metadata": {
        "colab": {
          "base_uri": "https://localhost:8080/"
        },
        "id": "F7mXZ1T964As",
        "outputId": "e3f6486c-1694-434b-b9d2-c5cf4f0b1332"
      },
      "execution_count": null,
      "outputs": [
        {
          "output_type": "stream",
          "name": "stdout",
          "text": [
            "HoW ArE YoU\n"
          ]
        }
      ]
    },
    {
      "cell_type": "markdown",
      "source": [
        "#Section B"
      ],
      "metadata": {
        "id": "ISZLQnVB7LqC"
      }
    },
    {
      "cell_type": "markdown",
      "source": [
        "Write a Python Program to Find the Sum of Natural Numbers?"
      ],
      "metadata": {
        "id": "wDcbm7OD7REE"
      }
    },
    {
      "cell_type": "code",
      "source": [
        "def sumofn(n):\n",
        "   if n <= 1:\n",
        "       return n\n",
        "   else:\n",
        "       return n + sumofn(n-1)\n",
        "x = int(input(\"Enter a number: \"))\n",
        "es = sumofn(x)\n",
        "print(es)"
      ],
      "metadata": {
        "colab": {
          "base_uri": "https://localhost:8080/"
        },
        "id": "w8PK8QLc7Qc4",
        "outputId": "5ef15245-ddee-4822-9e31-e02416d5f7ae"
      },
      "execution_count": null,
      "outputs": [
        {
          "output_type": "stream",
          "name": "stdout",
          "text": [
            "Enter a number: 33\n",
            "561\n"
          ]
        }
      ]
    },
    {
      "cell_type": "markdown",
      "source": [
        "2.Write a Python Program to Find the Factorial of a Number?"
      ],
      "metadata": {
        "id": "3TaVDWCf7iTM"
      }
    },
    {
      "cell_type": "code",
      "source": [
        "def factorial(a):\n",
        "  if a==1:\n",
        "    return 1\n",
        "  else:\n",
        "    return a*factorial(a-1)\n",
        "\n",
        "x = int(input())\n",
        "es = factorial(x)\n",
        "print(es)"
      ],
      "metadata": {
        "colab": {
          "base_uri": "https://localhost:8080/"
        },
        "id": "hutGJJrG7h2C",
        "outputId": "89efeef6-1122-4968-cde5-f80b06f9c2d1"
      },
      "execution_count": null,
      "outputs": [
        {
          "output_type": "stream",
          "name": "stdout",
          "text": [
            "21\n",
            "51090942171709440000\n"
          ]
        }
      ]
    },
    {
      "cell_type": "markdown",
      "source": [
        "Write a Python Program to Print all Prime Numbers in an Interval of 1-10000?"
      ],
      "metadata": {
        "id": "rL2_iw9I7tYk"
      }
    },
    {
      "cell_type": "code",
      "source": [
        "def primenos():\n",
        "  lower_limit = 1\n",
        "  upper_limit = 10000\n",
        "\n",
        "  for num in range(lower_limit, upper_limit+ 1):\n",
        "    if num > 1:\n",
        "        for i in range(2, num):\n",
        "            if (num % i) == 0:\n",
        "                break\n",
        "        else:\n",
        "          print(num)\n",
        "primenos()"
      ],
      "metadata": {
        "id": "2H4CqGu17ss0"
      },
      "execution_count": null,
      "outputs": []
    },
    {
      "cell_type": "markdown",
      "source": [
        "4.Write a Python Program to Display the multiplication Table?"
      ],
      "metadata": {
        "id": "iX_W7j2f75y0"
      }
    },
    {
      "cell_type": "code",
      "source": [
        "def table():\n",
        "  number = int(input())\n",
        "  for i in range(1,11):\n",
        "    print(number,\" x \",i,\" = \",number*i)\n",
        "table()"
      ],
      "metadata": {
        "colab": {
          "base_uri": "https://localhost:8080/"
        },
        "id": "fgZ5oM507-DN",
        "outputId": "18fbaef8-1866-4cbf-fa8d-305b57881a3c"
      },
      "execution_count": null,
      "outputs": [
        {
          "output_type": "stream",
          "name": "stdout",
          "text": [
            "10\n",
            "10  x  1  =  10\n",
            "10  x  2  =  20\n",
            "10  x  3  =  30\n",
            "10  x  4  =  40\n",
            "10  x  5  =  50\n",
            "10  x  6  =  60\n",
            "10  x  7  =  70\n",
            "10  x  8  =  80\n",
            "10  x  9  =  90\n",
            "10  x  10  =  100\n"
          ]
        }
      ]
    },
    {
      "cell_type": "markdown",
      "source": [
        "5.Write a Python Program to find largest element in an array"
      ],
      "metadata": {
        "id": "-Dhc7Avr8GPh"
      }
    },
    {
      "cell_type": "code",
      "source": [
        "def bc():\n",
        "  arr = [2, 3, 4, 15, 93]\n",
        "  largest = 0\n",
        "  for i in range(len(arr)):\n",
        "    if arr[i] > largest:\n",
        "      largest = arr[i]\n",
        "  print(largest)\n",
        "bc()"
      ],
      "metadata": {
        "colab": {
          "base_uri": "https://localhost:8080/"
        },
        "id": "yv35lU8u8J6J",
        "outputId": "aa45e081-6bc6-4513-f04b-270fb0b76cc1"
      },
      "execution_count": null,
      "outputs": [
        {
          "output_type": "stream",
          "name": "stdout",
          "text": [
            "93\n"
          ]
        }
      ]
    }
  ],
  "metadata": {
    "colab": {
      "provenance": [],
      "collapsed_sections": [],
      "authorship_tag": "ABX9TyMei2jnu+WidzIahWc/sZm0",
      "include_colab_link": true
    },
    "kernelspec": {
      "display_name": "Python 3",
      "name": "python3"
    },
    "language_info": {
      "name": "python"
    }
  },
  "nbformat": 4,
  "nbformat_minor": 0
}